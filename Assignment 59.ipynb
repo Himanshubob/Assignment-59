{
 "cells": [
  {
   "cell_type": "markdown",
   "id": "4da8e1bc",
   "metadata": {},
   "source": [
    "# Q1. What is the main difference between the Euclidean distance metric and the Manhattan distance metric in KNN? How might this difference affect the performance of a KNN classifier or regressor?"
   ]
  },
  {
   "cell_type": "markdown",
   "id": "f72eb0f7",
   "metadata": {},
   "source": [
    "# ans.. Euclidean distance work of point to poin  but Manhattan distance is mansen all points Euclidean distance use for classification and manhantan distance use for regression distance "
   ]
  },
  {
   "cell_type": "markdown",
   "id": "38699bb5",
   "metadata": {},
   "source": [
    "# Q2. How do you choose the optimal value of k for a KNN classifier or regressor? What techniques can be used to determine the optimal k value?"
   ]
  },
  {
   "cell_type": "markdown",
   "id": "204c8185",
   "metadata": {},
   "source": [
    "# Use an error plot or accuracy plot to find the most favorable K value. KNN performs well with multi-label classes, but you must be aware of the outliers."
   ]
  },
  {
   "cell_type": "markdown",
   "id": "31438b8e",
   "metadata": {},
   "source": [
    "# Q3. How does the choice of distance metric affect the performance of a KNN classifier or regressor? In what situations might you choose one distance metric over the other?"
   ]
  },
  {
   "cell_type": "markdown",
   "id": "e39f4dc2",
   "metadata": {},
   "source": [
    "# that allows the KNN to classify test examples with the highest precision, recall and accuracy, "
   ]
  },
  {
   "cell_type": "markdown",
   "id": "989d17e0",
   "metadata": {},
   "source": [
    "# Q4. What are some common hyperparameters in KNN classifiers and regressors, and how do they affect the performance of the model? How might you go about tuning these hyperparameters to improve model performance?"
   ]
  },
  {
   "cell_type": "markdown",
   "id": "d2458d77",
   "metadata": {},
   "source": [
    "# Common hyperparameters of KNN is n_neighbors,algorithm,leaf_size are most impotanent hayperparamerts to effect the model"
   ]
  },
  {
   "cell_type": "markdown",
   "id": "cbfae589",
   "metadata": {},
   "source": [
    "# Q5. How does the size of the training set affect the performance of a KNN classifier or regressor? What techniques can be used to optimize the size of the training set?"
   ]
  },
  {
   "cell_type": "markdown",
   "id": "3640c05a",
   "metadata": {},
   "source": [
    "# ans..The cost of calculating the distance between the new point and each existing point is huge, which degrades performance"
   ]
  },
  {
   "cell_type": "markdown",
   "id": "215790b0",
   "metadata": {},
   "source": [
    "# Q6. What are some potential drawbacks of using KNN as a classifier or regressor? How might you overcome these drawbacks to improve the performance of the model?"
   ]
  },
  {
   "cell_type": "markdown",
   "id": "12709325",
   "metadata": {},
   "source": [
    "# Does not work well with large dataset as calculating distances between each data instance would be very costly.\n",
    "# Does not work well with high dimensionality as this will complicate the distance calculating process to calculate distance for each dimension.\n",
    "# Sensitive to noisy and missing data."
   ]
  },
  {
   "cell_type": "code",
   "execution_count": null,
   "id": "428a4bb0",
   "metadata": {},
   "outputs": [],
   "source": []
  }
 ],
 "metadata": {
  "kernelspec": {
   "display_name": "Python 3 (ipykernel)",
   "language": "python",
   "name": "python3"
  },
  "language_info": {
   "codemirror_mode": {
    "name": "ipython",
    "version": 3
   },
   "file_extension": ".py",
   "mimetype": "text/x-python",
   "name": "python",
   "nbconvert_exporter": "python",
   "pygments_lexer": "ipython3",
   "version": "3.10.9"
  }
 },
 "nbformat": 4,
 "nbformat_minor": 5
}
